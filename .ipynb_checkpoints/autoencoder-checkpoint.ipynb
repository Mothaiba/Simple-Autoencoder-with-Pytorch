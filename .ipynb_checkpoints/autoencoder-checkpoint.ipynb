{
 "cells": [
  {
   "cell_type": "markdown",
   "metadata": {},
   "source": [
    "# Autoencoder"
   ]
  },
  {
   "cell_type": "code",
   "execution_count": 1,
   "metadata": {},
   "outputs": [],
   "source": [
    "import numpy as np\n",
    "import pandas as pd\n",
    "\n",
    "import torch\n",
    "import torch.nn as nn\n",
    "import torch.nn.functional as F\n",
    "import torch.optim as optim\n",
    "from torch.utils.data import Dataset, DataLoader\n",
    "\n",
    "import matplotlib.pyplot as plt\n",
    "from tqdm import tqdm\n",
    "\n",
    "device = 'cuda' if torch.cuda.is_available() else 'cpu'"
   ]
  },
  {
   "cell_type": "markdown",
   "metadata": {},
   "source": [
    "## Prepare data"
   ]
  },
  {
   "cell_type": "code",
   "execution_count": 2,
   "metadata": {},
   "outputs": [
    {
     "name": "stdout",
     "output_type": "stream",
     "text": [
      "There are 189 unique tags (tag value -1 means None)\n",
      "Tag index min: -1, tag index max: 187\n",
      "Vocab size = 189\n"
     ]
    }
   ],
   "source": [
    "questions = pd.read_csv('../../input/questions.csv')\n",
    "\n",
    "tag = questions[\"tags\"].str.split(\" \", expand = True) \n",
    "tag.columns = ['tags1','tags2','tags3','tags4','tags5','tags6']\n",
    "\n",
    "questions =  pd.concat([questions,tag],axis=1)\n",
    "questions['tags1'] = pd.to_numeric(questions['tags1'], errors='coerce').fillna(-1).astype('int16')\n",
    "questions['tags2'] = pd.to_numeric(questions['tags2'], errors='coerce').fillna(-1).astype('int16')\n",
    "questions['tags3'] = pd.to_numeric(questions['tags3'], errors='coerce').fillna(-1).astype('int16')\n",
    "questions['tags4'] = pd.to_numeric(questions['tags4'], errors='coerce').fillna(-1).astype('int16')\n",
    "questions['tags5'] = pd.to_numeric(questions['tags5'], errors='coerce').fillna(-1).astype('int16')\n",
    "questions['tags6'] = pd.to_numeric(questions['tags6'], errors='coerce').fillna(-1).astype('int16')\n",
    "\n",
    "all_tags = pd.concat(\n",
    "    [questions['tags1'], questions['tags2'], questions['tags3'], \n",
    "     questions['tags4'], questions['tags5'], questions['tags6']]\n",
    ")\n",
    "vocab_size = all_tags.nunique()\n",
    "\n",
    "print(f'There are {all_tags.nunique()} unique tags (tag value -1 means None)')\n",
    "print(f'Tag index min: {all_tags.min()}, tag index max: {all_tags.max()}')\n",
    "print(f'Vocab size = {vocab_size}')"
   ]
  },
  {
   "cell_type": "code",
   "execution_count": 3,
   "metadata": {},
   "outputs": [
    {
     "name": "stdout",
     "output_type": "stream",
     "text": [
      "tags sample: [array([ 51, 131, 162,  38]) array([131,  36,  81])\n",
      " array([131, 101, 162,  92]) array([131, 149, 162,  29])\n",
      " array([131,   5, 162,  38])]\n"
     ]
    }
   ],
   "source": [
    "# extract tags from questions\n",
    "questions['tags'].fillna(188, inplace=True)\n",
    "tags = questions['tags'].apply(\n",
    "    lambda x: np.array([int(v) for v in str(x).split()])\n",
    ").to_numpy()\n",
    "print(f'tags sample: {tags[:5]}')"
   ]
  },
  {
   "cell_type": "code",
   "execution_count": 4,
   "metadata": {},
   "outputs": [
    {
     "data": {
      "text/html": [
       "<div>\n",
       "<style scoped>\n",
       "    .dataframe tbody tr th:only-of-type {\n",
       "        vertical-align: middle;\n",
       "    }\n",
       "\n",
       "    .dataframe tbody tr th {\n",
       "        vertical-align: top;\n",
       "    }\n",
       "\n",
       "    .dataframe thead th {\n",
       "        text-align: right;\n",
       "    }\n",
       "</style>\n",
       "<table border=\"1\" class=\"dataframe\">\n",
       "  <thead>\n",
       "    <tr style=\"text-align: right;\">\n",
       "      <th></th>\n",
       "      <th>question_id</th>\n",
       "    </tr>\n",
       "  </thead>\n",
       "  <tbody>\n",
       "    <tr>\n",
       "      <th>0</th>\n",
       "      <td>5692</td>\n",
       "    </tr>\n",
       "    <tr>\n",
       "      <th>1</th>\n",
       "      <td>5716</td>\n",
       "    </tr>\n",
       "    <tr>\n",
       "      <th>2</th>\n",
       "      <td>128</td>\n",
       "    </tr>\n",
       "    <tr>\n",
       "      <th>3</th>\n",
       "      <td>7860</td>\n",
       "    </tr>\n",
       "    <tr>\n",
       "      <th>4</th>\n",
       "      <td>7922</td>\n",
       "    </tr>\n",
       "  </tbody>\n",
       "</table>\n",
       "</div>"
      ],
      "text/plain": [
       "   question_id\n",
       "0         5692\n",
       "1         5716\n",
       "2          128\n",
       "3         7860\n",
       "4         7922"
      ]
     },
     "execution_count": 4,
     "metadata": {},
     "output_type": "execute_result"
    }
   ],
   "source": [
    "train = pd.read_csv('../../input/train.csv', dtype={'content_id':'int16', 'content_type_id':'int8'}, usecols=['content_id', 'content_type_id'])\n",
    "train = train[train['content_type_id'] == 0] # take only question-rows\n",
    "train.rename(columns={'content_id':'question_id'}, inplace=True)\n",
    "train = train[['question_id']]\n",
    "train.head()"
   ]
  },
  {
   "cell_type": "code",
   "execution_count": 5,
   "metadata": {},
   "outputs": [
    {
     "data": {
      "text/html": [
       "<div>\n",
       "<style scoped>\n",
       "    .dataframe tbody tr th:only-of-type {\n",
       "        vertical-align: middle;\n",
       "    }\n",
       "\n",
       "    .dataframe tbody tr th {\n",
       "        vertical-align: top;\n",
       "    }\n",
       "\n",
       "    .dataframe thead th {\n",
       "        text-align: right;\n",
       "    }\n",
       "</style>\n",
       "<table border=\"1\" class=\"dataframe\">\n",
       "  <thead>\n",
       "    <tr style=\"text-align: right;\">\n",
       "      <th></th>\n",
       "      <th>question_id</th>\n",
       "      <th>all_tags</th>\n",
       "    </tr>\n",
       "  </thead>\n",
       "  <tbody>\n",
       "    <tr>\n",
       "      <th>0</th>\n",
       "      <td>0</td>\n",
       "      <td>[51, 131, 162, 38]</td>\n",
       "    </tr>\n",
       "    <tr>\n",
       "      <th>1</th>\n",
       "      <td>1</td>\n",
       "      <td>[131, 36, 81]</td>\n",
       "    </tr>\n",
       "    <tr>\n",
       "      <th>2</th>\n",
       "      <td>2</td>\n",
       "      <td>[131, 101, 162, 92]</td>\n",
       "    </tr>\n",
       "    <tr>\n",
       "      <th>3</th>\n",
       "      <td>3</td>\n",
       "      <td>[131, 149, 162, 29]</td>\n",
       "    </tr>\n",
       "    <tr>\n",
       "      <th>4</th>\n",
       "      <td>4</td>\n",
       "      <td>[131, 5, 162, 38]</td>\n",
       "    </tr>\n",
       "  </tbody>\n",
       "</table>\n",
       "</div>"
      ],
      "text/plain": [
       "   question_id             all_tags\n",
       "0            0   [51, 131, 162, 38]\n",
       "1            1        [131, 36, 81]\n",
       "2            2  [131, 101, 162, 92]\n",
       "3            3  [131, 149, 162, 29]\n",
       "4            4    [131, 5, 162, 38]"
      ]
     },
     "execution_count": 5,
     "metadata": {},
     "output_type": "execute_result"
    }
   ],
   "source": [
    "questions['all_tags'] = tags\n",
    "questions = questions[['question_id', 'all_tags']]\n",
    "questions.head()"
   ]
  },
  {
   "cell_type": "code",
   "execution_count": 6,
   "metadata": {},
   "outputs": [
    {
     "data": {
      "text/html": [
       "<div>\n",
       "<style scoped>\n",
       "    .dataframe tbody tr th:only-of-type {\n",
       "        vertical-align: middle;\n",
       "    }\n",
       "\n",
       "    .dataframe tbody tr th {\n",
       "        vertical-align: top;\n",
       "    }\n",
       "\n",
       "    .dataframe thead th {\n",
       "        text-align: right;\n",
       "    }\n",
       "</style>\n",
       "<table border=\"1\" class=\"dataframe\">\n",
       "  <thead>\n",
       "    <tr style=\"text-align: right;\">\n",
       "      <th></th>\n",
       "      <th>question_id</th>\n",
       "      <th>all_tags</th>\n",
       "    </tr>\n",
       "  </thead>\n",
       "  <tbody>\n",
       "    <tr>\n",
       "      <th>0</th>\n",
       "      <td>5692</td>\n",
       "      <td>[151]</td>\n",
       "    </tr>\n",
       "    <tr>\n",
       "      <th>1</th>\n",
       "      <td>5716</td>\n",
       "      <td>[168]</td>\n",
       "    </tr>\n",
       "    <tr>\n",
       "      <th>2</th>\n",
       "      <td>128</td>\n",
       "      <td>[131, 149, 92]</td>\n",
       "    </tr>\n",
       "    <tr>\n",
       "      <th>3</th>\n",
       "      <td>7860</td>\n",
       "      <td>[131, 104, 81]</td>\n",
       "    </tr>\n",
       "    <tr>\n",
       "      <th>4</th>\n",
       "      <td>7922</td>\n",
       "      <td>[131, 149, 92]</td>\n",
       "    </tr>\n",
       "  </tbody>\n",
       "</table>\n",
       "</div>"
      ],
      "text/plain": [
       "   question_id        all_tags\n",
       "0         5692           [151]\n",
       "1         5716           [168]\n",
       "2          128  [131, 149, 92]\n",
       "3         7860  [131, 104, 81]\n",
       "4         7922  [131, 149, 92]"
      ]
     },
     "metadata": {},
     "output_type": "display_data"
    },
    {
     "name": "stdout",
     "output_type": "stream",
     "text": [
      "corpus length: 99271300\n",
      "corpus sample: [array([151]) array([168]) array([131, 149,  92]) array([131, 104,  81])]\n"
     ]
    }
   ],
   "source": [
    "train = train.merge(questions[['question_id', 'all_tags']], how='left', on='question_id')\n",
    "display(train.head())\n",
    "\n",
    "corpus = train['all_tags'].to_numpy()\n",
    "print(f'corpus length: {len(corpus)}')\n",
    "print(f'corpus sample: {corpus[:4]}')"
   ]
  },
  {
   "cell_type": "markdown",
   "metadata": {},
   "source": [
    "## Build an autoencoder"
   ]
  },
  {
   "cell_type": "code",
   "execution_count": 7,
   "metadata": {},
   "outputs": [],
   "source": [
    "class MyDataset(Dataset):\n",
    "    def __init__(self, data, vocab_size):\n",
    "        super(MyDataset, self).__init__()\n",
    "        self.data = data\n",
    "        self.vocab_size = vocab_size\n",
    "    \n",
    "    def __len__(self):\n",
    "        # the corpus size is too large, \n",
    "        # we don't need to examine the whole corpus at each epoch\n",
    "        return 5000000 \n",
    "    \n",
    "    def __getitem__(self, idx):\n",
    "        row = torch.zeros(self.vocab_size)\n",
    "        idx = np.random.randint(0, len(self.data))\n",
    "        row[self.data[idx]] = 1\n",
    "        row = row.to(device)\n",
    "        return row\n",
    "\n",
    "dataset = MyDataset(corpus, vocab_size)\n",
    "dataloader = DataLoader(dataset, batch_size=8192, shuffle=True)"
   ]
  },
  {
   "cell_type": "code",
   "execution_count": 8,
   "metadata": {},
   "outputs": [],
   "source": [
    "class AE(nn.Module):\n",
    "    def __init__(self, vocab_size, target_dim):\n",
    "        super(AE, self).__init__()\n",
    "        self.encoder = nn.Sequential(\n",
    "            nn.Linear(vocab_size, 128),\n",
    "            nn.ReLU(),\n",
    "            nn.Linear(128, target_dim),\n",
    "        )\n",
    "        self.decoder = nn.Sequential(\n",
    "            nn.Linear(target_dim, 128),\n",
    "            nn.ReLU(),\n",
    "            nn.Linear(128, vocab_size),\n",
    "            nn.Sigmoid()\n",
    "        )\n",
    "    def forward(self, x):\n",
    "        x = self.encoder(x)\n",
    "        x = self.decoder(x)\n",
    "        return x\n",
    "    \n",
    "    def encode(self, x):\n",
    "        x = self.encoder(x)\n",
    "        return x\n",
    "\n",
    "ae = AE(vocab_size, 4).to(device)\n",
    "criterion = nn.MSELoss()\n",
    "optimizer = optim.Adam(ae.parameters())"
   ]
  },
  {
   "cell_type": "markdown",
   "metadata": {},
   "source": [
    "### Train"
   ]
  },
  {
   "cell_type": "code",
   "execution_count": 9,
   "metadata": {},
   "outputs": [
    {
     "name": "stderr",
     "output_type": "stream",
     "text": [
      "100%|██████████| 611/611 [04:56<00:00,  2.06it/s]\n",
      "  0%|          | 0/611 [00:00<?, ?it/s]"
     ]
    },
    {
     "name": "stdout",
     "output_type": "stream",
     "text": [
      "epoch: 0| training MSE: 0.0199856\n"
     ]
    },
    {
     "name": "stderr",
     "output_type": "stream",
     "text": [
      "100%|██████████| 611/611 [04:55<00:00,  2.07it/s]\n",
      "  0%|          | 0/611 [00:00<?, ?it/s]"
     ]
    },
    {
     "name": "stdout",
     "output_type": "stream",
     "text": [
      "epoch: 1| training MSE: 0.0059035\n"
     ]
    },
    {
     "name": "stderr",
     "output_type": "stream",
     "text": [
      "100%|██████████| 611/611 [04:53<00:00,  2.08it/s]\n",
      "  0%|          | 0/611 [00:00<?, ?it/s]"
     ]
    },
    {
     "name": "stdout",
     "output_type": "stream",
     "text": [
      "epoch: 2| training MSE: 0.0040229\n"
     ]
    },
    {
     "name": "stderr",
     "output_type": "stream",
     "text": [
      "100%|██████████| 611/611 [04:54<00:00,  2.07it/s]\n",
      "  0%|          | 0/611 [00:00<?, ?it/s]"
     ]
    },
    {
     "name": "stdout",
     "output_type": "stream",
     "text": [
      "epoch: 3| training MSE: 0.0035919\n"
     ]
    },
    {
     "name": "stderr",
     "output_type": "stream",
     "text": [
      "100%|██████████| 611/611 [04:54<00:00,  2.07it/s]"
     ]
    },
    {
     "name": "stdout",
     "output_type": "stream",
     "text": [
      "epoch: 4| training MSE: 0.0034504\n"
     ]
    },
    {
     "name": "stderr",
     "output_type": "stream",
     "text": [
      "\n"
     ]
    }
   ],
   "source": [
    "EPOCHS = 5\n",
    "losses = []\n",
    "\n",
    "for epoch in range(EPOCHS):\n",
    "    epoch_loss = []\n",
    "    ae.train()\n",
    "    for inp in tqdm(dataloader):\n",
    "        out = ae(inp)\n",
    "        loss = criterion(out, inp)\n",
    "        optimizer.zero_grad()\n",
    "        epoch_loss.append(loss.item())\n",
    "        loss.backward()\n",
    "        optimizer.step()\n",
    "    \n",
    "    curr_loss = np.mean(epoch_loss)\n",
    "    losses.append(curr_loss)\n",
    "    \n",
    "    if curr_loss == min(losses):\n",
    "        torch.save(ae.state_dict(), 'autoencoder.pt')\n",
    "    \n",
    "    print(f'epoch: {epoch}| training MSE: {curr_loss:.7f}')\n",
    "    "
   ]
  },
  {
   "cell_type": "markdown",
   "metadata": {},
   "source": [
    "### A glance at the performance"
   ]
  },
  {
   "cell_type": "code",
   "execution_count": 10,
   "metadata": {},
   "outputs": [
    {
     "name": "stdout",
     "output_type": "stream",
     "text": [
      "validate autoencoder using 15 random data points (5*3)\n",
      "for each data point:\n",
      "+) the title shows the data point id and encoding error\n",
      "+) the upper bar shows the original data\n",
      "+) the lower bar shows the uncompressed version\n"
     ]
    },
    {
     "data": {
      "image/png": "[encoded data removed]",
      "text/plain": [
       "<Figure size 1152x72 with 6 Axes>"
      ]
     },
     "metadata": {
      "needs_background": "light"
     },
     "output_type": "display_data"
    },
    {
     "data": {
      "image/png": "[encoded data removed]",
      "text/plain": [
       "<Figure size 1152x72 with 6 Axes>"
      ]
     },
     "metadata": {
      "needs_background": "light"
     },
     "output_type": "display_data"
    },
    {
     "data": {
      "image/png": "[encoded data removed]",
      "text/plain": [
       "<Figure size 1152x72 with 6 Axes>"
      ]
     },
     "metadata": {
      "needs_background": "light"
     },
     "output_type": "display_data"
    },
    {
     "data": {
      "image/png": "[encoded data removed]",
      "text/plain": [
       "<Figure size 1152x72 with 6 Axes>"
      ]
     },
     "metadata": {
      "needs_background": "light"
     },
     "output_type": "display_data"
    },
    {
     "data": {
      "image/png": "[encoded data removed]",
      "text/plain": [
       "<Figure size 1152x72 with 6 Axes>"
      ]
     },
     "metadata": {
      "needs_background": "light"
     },
     "output_type": "display_data"
    }
   ],
   "source": [
    "def show(axx, img, tit=''):\n",
    "    axx.imshow(img.view(1, -1).repeat(10, 1), vmin=0, vmax=1, cmap='gray')\n",
    "    axx.set_title(tit)\n",
    "    axx.axis('off')\n",
    "    \n",
    "def viz(nrow=5, ncolumn=3):  \n",
    "    ae.eval()\n",
    "    print(f'validate autoencoder using {nrow*ncolumn} random data points ({nrow}*{ncolumn})')\n",
    "    print(f'for each data point:')\n",
    "    print('+) the title shows the data point id and encoding error')\n",
    "    print('+) the upper bar shows the original data')\n",
    "    print('+) the lower bar shows the uncompressed version')\n",
    "    for ti in range(nrow):\n",
    "        fig, ax = plt.subplots(2, ncolumn, figsize=(16, 1))\n",
    "        for i, idx in enumerate(np.random.choice(range(len(corpus)), size=3)):\n",
    "            example = torch.zeros(vocab_size)\n",
    "            example[corpus[idx]] = 1\n",
    "            example = example.to(device)\n",
    "            out = ae(example).detach()\n",
    "            err = ((out - example)**2).mean()\n",
    "            show(ax[0, i], example.cpu(), f'{idx} - {err:.7f}')\n",
    "            show(ax[1, i], out.cpu())\n",
    "        plt.savefig('sample_encoding.jpg')\n",
    "        plt.show()\n",
    "\n",
    "viz(5)"
   ]
  },
  {
   "cell_type": "markdown",
   "metadata": {},
   "source": [
    "### Encode and output"
   ]
  },
  {
   "cell_type": "code",
   "execution_count": 11,
   "metadata": {},
   "outputs": [
    {
     "name": "stderr",
     "output_type": "stream",
     "text": [
      "100%|██████████| 13523/13523 [00:03<00:00, 3824.12it/s]\n"
     ]
    },
    {
     "data": {
      "text/html": [
       "<div>\n",
       "<style scoped>\n",
       "    .dataframe tbody tr th:only-of-type {\n",
       "        vertical-align: middle;\n",
       "    }\n",
       "\n",
       "    .dataframe tbody tr th {\n",
       "        vertical-align: top;\n",
       "    }\n",
       "\n",
       "    .dataframe thead th {\n",
       "        text-align: right;\n",
       "    }\n",
       "</style>\n",
       "<table border=\"1\" class=\"dataframe\">\n",
       "  <thead>\n",
       "    <tr style=\"text-align: right;\">\n",
       "      <th></th>\n",
       "      <th>question_id</th>\n",
       "      <th>compressed_tags</th>\n",
       "    </tr>\n",
       "  </thead>\n",
       "  <tbody>\n",
       "    <tr>\n",
       "      <th>0</th>\n",
       "      <td>0</td>\n",
       "      <td>[-14.581881, -9.985709, 8.773028, 10.073711]</td>\n",
       "    </tr>\n",
       "    <tr>\n",
       "      <th>1</th>\n",
       "      <td>1</td>\n",
       "      <td>[-8.093493, -9.205657, 1.788423, 10.297422]</td>\n",
       "    </tr>\n",
       "    <tr>\n",
       "      <th>2</th>\n",
       "      <td>2</td>\n",
       "      <td>[-20.981781, -8.35818, -3.8366005, 20.523558]</td>\n",
       "    </tr>\n",
       "    <tr>\n",
       "      <th>3</th>\n",
       "      <td>3</td>\n",
       "      <td>[-5.313623, -10.450474, -9.594804, 12.864284]</td>\n",
       "    </tr>\n",
       "    <tr>\n",
       "      <th>4</th>\n",
       "      <td>4</td>\n",
       "      <td>[-15.73284, -10.287952, 6.2600574, 12.127032]</td>\n",
       "    </tr>\n",
       "  </tbody>\n",
       "</table>\n",
       "</div>"
      ],
      "text/plain": [
       "   question_id                                compressed_tags\n",
       "0            0   [-14.581881, -9.985709, 8.773028, 10.073711]\n",
       "1            1    [-8.093493, -9.205657, 1.788423, 10.297422]\n",
       "2            2  [-20.981781, -8.35818, -3.8366005, 20.523558]\n",
       "3            3  [-5.313623, -10.450474, -9.594804, 12.864284]\n",
       "4            4  [-15.73284, -10.287952, 6.2600574, 12.127032]"
      ]
     },
     "execution_count": 11,
     "metadata": {},
     "output_type": "execute_result"
    }
   ],
   "source": [
    "encoded = []\n",
    "for v in tqdm(tags):\n",
    "    tensor = torch.zeros(vocab_size).to(device)\n",
    "    tensor[v] = 1\n",
    "    encoded.append(ae.encode(tensor).cpu().detach().numpy())\n",
    "\n",
    "questions['compressed_tags'] = encoded\n",
    "questions = questions[['question_id', 'compressed_tags']]\n",
    "questions.to_csv('compressed_tags.csv', index=False)\n",
    "questions.head()"
   ]
  },
  {
   "cell_type": "code",
   "execution_count": null,
   "metadata": {},
   "outputs": [],
   "source": []
  }
 ],
 "metadata": {
  "kernelspec": {
   "display_name": "Python 3",
   "language": "python",
   "name": "python3"
  },
  "language_info": {
   "codemirror_mode": {
    "name": "ipython",
    "version": 3
   },
   "file_extension": ".py",
   "mimetype": "text/x-python",
   "name": "python",
   "nbconvert_exporter": "python",
   "pygments_lexer": "ipython3",
   "version": "3.8.3"
  }
 },
 "nbformat": 4,
 "nbformat_minor": 4
}
